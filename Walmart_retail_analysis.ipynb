{
 "cells": [
  {
   "cell_type": "markdown",
   "id": "3a47643d",
   "metadata": {},
   "source": [
    "DESCRIPTION\n",
    "\n",
    "One of the leading retail stores in the US, Walmart, would like to predict the sales and demand accurately. There are certain events and holidays which impact sales on each day. There are sales data available for 45 stores of Walmart. The business is facing a challenge due to unforeseen demands and runs out of stock some times, due to the inappropriate machine learning algorithm. An ideal ML algorithm will predict demand accurately and ingest factors like economic conditions including CPI, Unemployment Index, etc.\n",
    "\n",
    "Walmart runs several promotional markdown events throughout the year. These markdowns precede prominent holidays, the four largest of all, which are the Super Bowl, Labour Day, Thanksgiving, and Christmas. The weeks including these holidays are weighted five times higher in the evaluation than non-holiday weeks. Part of the challenge presented by this competition is modeling the effects of markdowns on these holiday weeks in the absence of complete/ideal historical data. Historical sales data for 45 Walmart stores located in different regions are available.\n",
    "\n",
    "Dataset Description\n",
    "\n",
    "This is the historical data that covers sales from 2010-02-05 to 2012-11-01, in the file Walmart_Store_sales. Within this file you will find the following fields:\n",
    "\n",
    "Store - the store number\n",
    "\n",
    "Date - the week of sales\n",
    "\n",
    "Weekly_Sales -  sales for the given store\n",
    "\n",
    "Holiday_Flag - whether the week is a special holiday week 1 – Holiday week 0 – Non-holiday week\n",
    "\n",
    "Temperature - Temperature on the day of sale\n",
    "\n",
    "Fuel_Price - Cost of fuel in the region\n",
    "\n",
    "CPI – Prevailing consumer price index\n",
    "\n",
    "Unemployment - Prevailing unemployment rate\n",
    "\n",
    "Holiday Events\n",
    "\n",
    "Super Bowl: 12-Feb-10, 11-Feb-11, 10-Feb-12, 8-Feb-13\n",
    "Labour Day: 10-Sep-10, 9-Sep-11, 7-Sep-12, 6-Sep-13\n",
    "Thanksgiving: 26-Nov-10, 25-Nov-11, 23-Nov-12, 29-Nov-13\n",
    "Christmas: 31-Dec-10, 30-Dec-11, 28-Dec-12, 27-Dec-13\n",
    "\n",
    "Analysis Tasks\n",
    "\n",
    "Basic Statistics tasks\n",
    "\n",
    "Which store has maximum sales\n",
    "\n",
    "Which store has maximum standard deviation i.e., the sales vary a lot. Also, find out the coefficient of mean to standard deviation\n",
    "\n",
    "Which store/s has good quarterly growth rate in Q3’2012\n",
    "\n",
    "Some holidays have a negative impact on sales. Find out holidays which have higher sales than the mean sales in non-holiday season for all stores together\n",
    "\n",
    "Provide a monthly and semester view of sales in units and give insights\n",
    "\n",
    "Statistical Model\n",
    "\n",
    "For Store 1 – Build  prediction models to forecast demand\n",
    "\n",
    "Linear Regression – Utilize variables like date and restructure dates as 1 for 5 Feb 2010 (starting from the earliest date in order). Hypothesize if CPI, unemployment, and fuel price have any impact on sales.\n",
    "\n",
    "Change dates into days by creating new variable."
   ]
  },
  {
   "cell_type": "code",
   "execution_count": 146,
   "id": "6d645b93",
   "metadata": {},
   "outputs": [],
   "source": [
    "import seaborn as sns\n",
    "from pandas import read_csv, DataFrame, to_datetime, get_dummies, to_timedelta\n",
    "import numpy as np\n",
    "import matplotlib.pyplot as plt\n",
    "import seaborn as sns\n",
    "plt.style.use('ggplot')\n",
    "#Store,Date,Weekly_Sales,Holiday_Flag,Temperature,Fuel_Price,CPI,Unemployment\n",
    "\n",
    "#from statsmodels.api import OLS\n",
    "#statsmodels.regression.linear_model\n",
    "from statsmodels.regression.linear_model import OLS, OLSResults\n",
    "from statsmodels.api import Logit\n",
    "from patsy import dmatrices\n",
    "from sklearn.model_selection import train_test_split\n",
    "from sklearn.metrics import r2_score, mean_squared_error"
   ]
  },
  {
   "cell_type": "code",
   "execution_count": 2,
   "id": "b1801380",
   "metadata": {},
   "outputs": [],
   "source": [
    "wm = read_csv('Walmart_Store_sales.csv', \n",
    "              dtype={'Store':'Int32','Weekly_Sales':'Float64',\n",
    "                     'Holiday_Flag':'Int32','Temperature':'Float64',\n",
    "                     'Fuel_Price':'Float64','CPI':'Float64','Unemployment':'Float64'},\n",
    "#               parse_dates=['Date'],\n",
    "#               infer_datetime_format=True,\n",
    "             )\n",
    "wm.Date = to_datetime(wm.Date, format=\"%d-%m-%Y\")"
   ]
  },
  {
   "cell_type": "code",
   "execution_count": 3,
   "id": "995650ab",
   "metadata": {},
   "outputs": [
    {
     "name": "stdout",
     "output_type": "stream",
     "text": [
      "<class 'pandas.core.frame.DataFrame'>\n",
      "RangeIndex: 6435 entries, 0 to 6434\n",
      "Data columns (total 8 columns):\n",
      " #   Column        Non-Null Count  Dtype         \n",
      "---  ------        --------------  -----         \n",
      " 0   Store         6435 non-null   Int32         \n",
      " 1   Date          6435 non-null   datetime64[ns]\n",
      " 2   Weekly_Sales  6435 non-null   Float64       \n",
      " 3   Holiday_Flag  6435 non-null   Int32         \n",
      " 4   Temperature   6435 non-null   Float64       \n",
      " 5   Fuel_Price    6435 non-null   Float64       \n",
      " 6   CPI           6435 non-null   Float64       \n",
      " 7   Unemployment  6435 non-null   Float64       \n",
      "dtypes: Float64(5), Int32(2), datetime64[ns](1)\n",
      "memory usage: 396.0 KB\n"
     ]
    }
   ],
   "source": [
    "wm.info()"
   ]
  },
  {
   "cell_type": "code",
   "execution_count": 4,
   "id": "cc1fc76d",
   "metadata": {},
   "outputs": [
    {
     "data": {
      "text/html": [
       "<div>\n",
       "<style scoped>\n",
       "    .dataframe tbody tr th:only-of-type {\n",
       "        vertical-align: middle;\n",
       "    }\n",
       "\n",
       "    .dataframe tbody tr th {\n",
       "        vertical-align: top;\n",
       "    }\n",
       "\n",
       "    .dataframe thead th {\n",
       "        text-align: right;\n",
       "    }\n",
       "</style>\n",
       "<table border=\"1\" class=\"dataframe\">\n",
       "  <thead>\n",
       "    <tr style=\"text-align: right;\">\n",
       "      <th></th>\n",
       "      <th>Weekly_Sales</th>\n",
       "    </tr>\n",
       "    <tr>\n",
       "      <th>Store</th>\n",
       "      <th></th>\n",
       "    </tr>\n",
       "  </thead>\n",
       "  <tbody>\n",
       "    <tr>\n",
       "      <th>20</th>\n",
       "      <td>301397792.46</td>\n",
       "    </tr>\n",
       "  </tbody>\n",
       "</table>\n",
       "</div>"
      ],
      "text/plain": [
       "       Weekly_Sales\n",
       "Store              \n",
       "20     301397792.46"
      ]
     },
     "execution_count": 4,
     "metadata": {},
     "output_type": "execute_result"
    }
   ],
   "source": [
    "wm[['Store','Weekly_Sales']].groupby(['Store']).sum().sort_values(by='Weekly_Sales', ascending=False).iloc[0:1,]\n",
    "# Which store has maximum sales"
   ]
  },
  {
   "cell_type": "code",
   "execution_count": 5,
   "id": "6bf3e318",
   "metadata": {},
   "outputs": [
    {
     "data": {
      "text/html": [
       "<div>\n",
       "<style scoped>\n",
       "    .dataframe tbody tr th:only-of-type {\n",
       "        vertical-align: middle;\n",
       "    }\n",
       "\n",
       "    .dataframe tbody tr th {\n",
       "        vertical-align: top;\n",
       "    }\n",
       "\n",
       "    .dataframe thead th {\n",
       "        text-align: right;\n",
       "    }\n",
       "</style>\n",
       "<table border=\"1\" class=\"dataframe\">\n",
       "  <thead>\n",
       "    <tr style=\"text-align: right;\">\n",
       "      <th></th>\n",
       "      <th>Weekly_Sales</th>\n",
       "    </tr>\n",
       "    <tr>\n",
       "      <th>Store</th>\n",
       "      <th></th>\n",
       "    </tr>\n",
       "  </thead>\n",
       "  <tbody>\n",
       "    <tr>\n",
       "      <th>14</th>\n",
       "      <td>317569.949</td>\n",
       "    </tr>\n",
       "  </tbody>\n",
       "</table>\n",
       "</div>"
      ],
      "text/plain": [
       "       Weekly_Sales\n",
       "Store              \n",
       "14       317569.949"
      ]
     },
     "execution_count": 5,
     "metadata": {},
     "output_type": "execute_result"
    }
   ],
   "source": [
    "(wm[['Store','Weekly_Sales']].groupby(['Store']).std().sort_values(by='Weekly_Sales', ascending=False)).round(3).iloc[0:1,]\n",
    "# Which store has maximum standard deviation"
   ]
  },
  {
   "cell_type": "code",
   "execution_count": 6,
   "id": "be95b3b5",
   "metadata": {},
   "outputs": [
    {
     "data": {
      "text/html": [
       "<div>\n",
       "<style scoped>\n",
       "    .dataframe tbody tr th:only-of-type {\n",
       "        vertical-align: middle;\n",
       "    }\n",
       "\n",
       "    .dataframe tbody tr th {\n",
       "        vertical-align: top;\n",
       "    }\n",
       "\n",
       "    .dataframe thead th {\n",
       "        text-align: right;\n",
       "    }\n",
       "</style>\n",
       "<table border=\"1\" class=\"dataframe\">\n",
       "  <thead>\n",
       "    <tr style=\"text-align: right;\">\n",
       "      <th></th>\n",
       "      <th>Weekly_Sales</th>\n",
       "    </tr>\n",
       "    <tr>\n",
       "      <th>Store</th>\n",
       "      <th></th>\n",
       "    </tr>\n",
       "  </thead>\n",
       "  <tbody>\n",
       "    <tr>\n",
       "      <th>14</th>\n",
       "      <td>0.157137</td>\n",
       "    </tr>\n",
       "  </tbody>\n",
       "</table>\n",
       "</div>"
      ],
      "text/plain": [
       "       Weekly_Sales\n",
       "Store              \n",
       "14         0.157137"
      ]
     },
     "execution_count": 6,
     "metadata": {},
     "output_type": "execute_result"
    }
   ],
   "source": [
    "sd = wm[['Store','Weekly_Sales']].groupby(['Store']).std()\n",
    "mn = wm[['Store','Weekly_Sales']].groupby(['Store']).mean()\n",
    "# (sd/mn).sort_values(by='Weekly_Sales', ascending=False)\n",
    "(sd/mn).iloc[13:14,]\n",
    "# Also, find out the coefficient of mean to standard deviation = sd/mean"
   ]
  },
  {
   "cell_type": "code",
   "execution_count": 7,
   "id": "23bc2c83",
   "metadata": {},
   "outputs": [
    {
     "data": {
      "text/html": [
       "<div>\n",
       "<style scoped>\n",
       "    .dataframe tbody tr th:only-of-type {\n",
       "        vertical-align: middle;\n",
       "    }\n",
       "\n",
       "    .dataframe tbody tr th {\n",
       "        vertical-align: top;\n",
       "    }\n",
       "\n",
       "    .dataframe thead th {\n",
       "        text-align: right;\n",
       "    }\n",
       "</style>\n",
       "<table border=\"1\" class=\"dataframe\">\n",
       "  <thead>\n",
       "    <tr style=\"text-align: right;\">\n",
       "      <th></th>\n",
       "      <th>Weekly_Sales</th>\n",
       "    </tr>\n",
       "    <tr>\n",
       "      <th>Store</th>\n",
       "      <th></th>\n",
       "    </tr>\n",
       "  </thead>\n",
       "  <tbody>\n",
       "    <tr>\n",
       "      <th>4</th>\n",
       "      <td>27796792.46</td>\n",
       "    </tr>\n",
       "    <tr>\n",
       "      <th>20</th>\n",
       "      <td>26891526.98</td>\n",
       "    </tr>\n",
       "    <tr>\n",
       "      <th>13</th>\n",
       "      <td>26421259.3</td>\n",
       "    </tr>\n",
       "  </tbody>\n",
       "</table>\n",
       "</div>"
      ],
      "text/plain": [
       "       Weekly_Sales\n",
       "Store              \n",
       "4       27796792.46\n",
       "20      26891526.98\n",
       "13       26421259.3"
      ]
     },
     "execution_count": 7,
     "metadata": {},
     "output_type": "execute_result"
    }
   ],
   "source": [
    "# Q3 2012 growth_rate (sum of weekely_sales)\n",
    "wmdss = wm[['Date','Store','Weekly_Sales']][wm.Date.dt.year==2012]\n",
    "q32012 = wmdss[['Store','Weekly_Sales']][wmdss.Date.dt.quarter == 3].groupby(['Store']).sum().sort_values(by='Weekly_Sales', ascending=False)\n",
    "q32012.head(3)"
   ]
  },
  {
   "cell_type": "markdown",
   "id": "0704ba6c",
   "metadata": {},
   "source": [
    "Some holidays have a negative impact on sales.\n",
    "Find out holidays which have higher sales, than the *(**mean sales in non-holiday**)* season for **all stores together**\n"
   ]
  },
  {
   "cell_type": "code",
   "execution_count": 8,
   "id": "7ceb16b7",
   "metadata": {},
   "outputs": [
    {
     "data": {
      "text/plain": [
       "[45, 45, 45, 0, 45, 45, 45, 0, 45, 45, 0, 0, 45, 45, 0, 0]"
      ]
     },
     "execution_count": 8,
     "metadata": {},
     "output_type": "execute_result"
    }
   ],
   "source": [
    "# import calendar\n",
    "# mntnum = dict((calendar.month_abbr[x],x) for x in range(1,13))\n",
    "holids = to_datetime(['12-Feb-10', '11-Feb-11', '10-Feb-12', '8-Feb-13',\n",
    "                          '10-Sep-10', '9-Sep-11', '7-Sep-12', '6-Sep-13',\n",
    "                          '26-Nov-10', '25-Nov-11', '23-Nov-12', '29-Nov-13',\n",
    "                          '31-Dec-10', '30-Dec-11', '28-Dec-12', '27-Dec-13'], format=\"%d-%b-%y\").normalize()\n",
    "[(wm.Date == dd).sum() for dd in holids]"
   ]
  },
  {
   "cell_type": "code",
   "execution_count": 9,
   "id": "211203c5",
   "metadata": {},
   "outputs": [],
   "source": [
    "#Super_Bowl[0].date()\n",
    "# print(wm.Date.dt.date[1], holids[0].date())\n",
    "# wm.Date[1] == holids[0].date()"
   ]
  },
  {
   "cell_type": "code",
   "execution_count": 10,
   "id": "5fc6c38a",
   "metadata": {},
   "outputs": [
    {
     "data": {
      "text/plain": [
       "DatetimeIndex(['2010-02-12', '2011-02-11', '2012-02-10', '2010-09-10',\n",
       "               '2011-09-09', '2012-09-07', '2010-11-26', '2011-11-25',\n",
       "               '2010-12-31', '2011-12-30'],\n",
       "              dtype='datetime64[ns]', freq=None)"
      ]
     },
     "execution_count": 10,
     "metadata": {},
     "output_type": "execute_result"
    }
   ],
   "source": [
    "non_holi_mean = wm.Weekly_Sales[ wm.Holiday_Flag == 0].mean()\n",
    "holi_sales_index = (np.array([(wm.Date.dt.date == dd).sum() for dd in holids])/45).astype(bool)\n",
    "holi_sales_dates = holids[holi_sales_index]\n",
    "holi_sales_dates"
   ]
  },
  {
   "cell_type": "code",
   "execution_count": 11,
   "id": "1a22c4f0",
   "metadata": {},
   "outputs": [
    {
     "data": {
      "text/plain": [
       "DatetimeIndex(['2010-02-12', '2011-02-11', '2012-02-10', '2012-09-07',\n",
       "               '2010-11-26', '2011-11-25'],\n",
       "              dtype='datetime64[ns]', freq=None)"
      ]
     },
     "execution_count": 11,
     "metadata": {},
     "output_type": "execute_result"
    }
   ],
   "source": [
    "higher_mean_holidays = np.array([wm.Weekly_Sales[wm.Date == hsd].mean()/non_holi_mean for hsd in holi_sales_dates])\n",
    "higher_mean_index = higher_mean_holidays.astype(int).astype(bool)\n",
    "holi_sales_dates[higher_mean_index]"
   ]
  },
  {
   "cell_type": "code",
   "execution_count": 12,
   "id": "e1641f31",
   "metadata": {},
   "outputs": [
    {
     "data": {
      "text/plain": [
       "array([1.03158877, 1.01023669, 1.06728775, 0.97391742, 0.99800861,\n",
       "       1.03144753, 1.40473469, 1.42122336, 0.86290028, 0.9826262 ])"
      ]
     },
     "execution_count": 12,
     "metadata": {},
     "output_type": "execute_result"
    }
   ],
   "source": [
    "# weekly_sales mean to non-holiday mean ratios\n",
    "higher_mean_holidays"
   ]
  },
  {
   "cell_type": "markdown",
   "id": "00526291",
   "metadata": {},
   "source": [
    "# Holiday sale-dates, higher than mean non-holiday sales"
   ]
  },
  {
   "cell_type": "code",
   "execution_count": 13,
   "id": "e25fb285",
   "metadata": {},
   "outputs": [
    {
     "data": {
      "text/plain": [
       "array(['Super Bowl: 12-Feb-10', 'Super Bowl: 11-Feb-11',\n",
       "       'Super Bowl: 10-Feb-12', 'Labour Day: 7-Sep-12',\n",
       "       'Thanksgiving: 26-Nov-10', 'Thanksgiving: 25-Nov-11'], dtype='<U23')"
      ]
     },
     "execution_count": 13,
     "metadata": {},
     "output_type": "execute_result"
    }
   ],
   "source": [
    "holi_index = np.array(['Super Bowl: 12-Feb-10', 'Super Bowl: 11-Feb-11', 'Super Bowl: 10-Feb-12', 'Super Bowl: 8-Feb-13',\n",
    " 'Labour Day: 10-Sep-10', 'Labour Day: 9-Sep-11', 'Labour Day: 7-Sep-12', 'Labour Day: 6-Sep-13',\n",
    " 'Thanksgiving: 26-Nov-10', 'Thanksgiving: 25-Nov-11', 'Thanksgiving: 23-Nov-12', 'Thanksgiving: 29-Nov-13',\n",
    " 'Christmas: 31-Dec-10', 'Christmas: 30-Dec-11', 'Christmas: 28-Dec-12', 'Christmas: 27-Dec-13']).astype(str)\n",
    "holi_index[holi_sales_index][higher_mean_index]\n"
   ]
  },
  {
   "cell_type": "code",
   "execution_count": 14,
   "id": "f7d5e211",
   "metadata": {},
   "outputs": [],
   "source": [
    "# semsale1 = wm[['Date','Weekly_Sales']][np.logical_or(wm.Date.dt.quarter == 1, wm.Date.dt.quarter == 2)]\n",
    "# semsale1['month'] = semsale1.Date.dt.month\n",
    "# semsale1.groupby(['month']).sum().plot(kind='bar', legend=False)\n",
    "# plt.show()\n",
    "# semsale2 = wm[['Date','Weekly_Sales']][np.logical_or(wm.Date.dt.quarter == 3, wm.Date.dt.quarter == 4)]\n",
    "# semsale2['month'] = semsale2.Date.dt.month\n",
    "# semsale2.groupby(['month']).sum().plot(kind='bar', legend=False)\n",
    "# plt.show()"
   ]
  },
  {
   "cell_type": "code",
   "execution_count": 15,
   "id": "c14866e4",
   "metadata": {},
   "outputs": [],
   "source": [
    "# qtest = wm.Date.dt.quarter[np.logical_or(wm.Date.dt.quarter == 1, wm.Date.dt.quarter == 2)]\n",
    "# len(qtest),(qtest==2).sum(),(qtest==1).sum()"
   ]
  },
  {
   "cell_type": "code",
   "execution_count": 16,
   "id": "5a33ca71",
   "metadata": {},
   "outputs": [
    {
     "data": {
      "text/plain": [
       "<matplotlib.legend.Legend at 0x1f69be17eb0>"
      ]
     },
     "execution_count": 16,
     "metadata": {},
     "output_type": "execute_result"
    },
    {
     "data": {
      "image/png": "[encoded data removed]",
      "text/plain": [
       "<Figure size 1152x504 with 1 Axes>"
      ]
     },
     "metadata": {},
     "output_type": "display_data"
    }
   ],
   "source": [
    "plt.figure(figsize=(16, 7))\n",
    "tms = wm.loc[:,['Date','Weekly_Sales']]\n",
    "tms['year'], tms['month'] = tms.Date.dt.year,  tms.Date.dt.month\n",
    "sns.pointplot(data=tms, x=tms.month, y='Weekly_Sales', hue='year', ci=False) #estimator='mean'\n",
    "plt.xlabel(\"month\")\n",
    "plt.ylabel(\"Sales in million units\")\n",
    "plt.title(\" Monthly mean-sales by year \")\n",
    "plt.legend(loc='upper right', bbox_to_anchor=(1.05,1))"
   ]
  },
  {
   "cell_type": "code",
   "execution_count": 17,
   "id": "11b8e6ed",
   "metadata": {},
   "outputs": [
    {
     "data": {
      "text/plain": [
       "month\n",
       "2     1057405.461333\n",
       "3     1010665.569444\n",
       "4     1028499.413556\n",
       "5     1037282.968556\n",
       "6     1068034.290889\n",
       "7       1033689.4488\n",
       "8       1042445.0605\n",
       "9        984821.6465\n",
       "10     965163.662311\n",
       "11    1126963.167444\n",
       "12    1283380.145422\n",
       "Name: Weekly_Sales, dtype: Float64"
      ]
     },
     "execution_count": 17,
     "metadata": {},
     "output_type": "execute_result"
    }
   ],
   "source": [
    "tms[tms.year == 2010].groupby(['month'])['Weekly_Sales'].mean()"
   ]
  },
  {
   "cell_type": "code",
   "execution_count": 20,
   "id": "1b81f7f0",
   "metadata": {},
   "outputs": [
    {
     "data": {
      "text/plain": [
       "<matplotlib.legend.Legend at 0x1f69c686160>"
      ]
     },
     "execution_count": 20,
     "metadata": {},
     "output_type": "execute_result"
    },
    {
     "data": {
      "image/png": "[encoded data removed]",
      "text/plain": [
       "<Figure size 576x432 with 1 Axes>"
      ]
     },
     "metadata": {},
     "output_type": "display_data"
    }
   ],
   "source": [
    "plt.figure(figsize=(8, 6))\n",
    "\n",
    "tms['semester'] = (np.ceil((tms.Date.dt.month//6)/2 )+1).astype(int)\n",
    "sns.pointplot(data=tms, x=tms.semester, y='Weekly_Sales', hue='year', ci=False) #estimator=sum\n",
    "plt.xlabel(\"semester\")\n",
    "plt.ylabel(\"Sales in million units\")\n",
    "plt.title(\" Semester mean-sales by year \")\n",
    "plt.legend(loc='upper right') #, bbox_to_anchor=(1.15,1)\n",
    "# np.ceil((np.arange(1,13)//6)/2).astype(int)+1"
   ]
  },
  {
   "cell_type": "markdown",
   "id": "1340e796",
   "metadata": {},
   "source": [
    "* ###  Bleak correlations of 'Weekly_Sales' with, 'Holiday_Flag','Temperature','Fuel_Price','CPI','Unemployment' "
   ]
  },
  {
   "cell_type": "code",
   "execution_count": 117,
   "id": "71b85020",
   "metadata": {},
   "outputs": [
    {
     "data": {
      "text/plain": [
       "<AxesSubplot:>"
      ]
     },
     "execution_count": 117,
     "metadata": {},
     "output_type": "execute_result"
    },
    {
     "data": {
      "image/png": "[encoded data removed]",
      "text/plain": [
       "<Figure size 720x576 with 2 Axes>"
      ]
     },
     "metadata": {},
     "output_type": "display_data"
    }
   ],
   "source": [
    "wm1 = wm[wm['Store']==1]\n",
    "plt.figure(figsize=(10,8)) \n",
    "corr_check = wm1.loc[:,('Weekly_Sales','Holiday_Flag','Temperature','Fuel_Price','CPI','Unemployment')]\n",
    "corr_check['dateSequence'] = np.arange(1,len(corr_check)+1)\n",
    "corr_check['Days'] = ((wm1.Date - wm1.Date[0])/np.timedelta64(1, 'D'))+1\n",
    "\n",
    "mask = np.triu(np.ones_like(corr_check.corr()))\n",
    "sns.heatmap(corr_check.corr(), annot=True, cmap=\"YlGnBu\", mask=mask)"
   ]
  },
  {
   "cell_type": "code",
   "execution_count": 182,
   "id": "75b02c90",
   "metadata": {},
   "outputs": [
    {
     "data": {
      "text/html": [
       "<table class=\"simpletable\">\n",
       "<caption>OLS Regression Results</caption>\n",
       "<tr>\n",
       "  <th>Dep. Variable:</th>      <td>Weekly_Sales</td>   <th>  R-squared (uncentered):</th>      <td>   0.991</td> \n",
       "</tr>\n",
       "<tr>\n",
       "  <th>Model:</th>                   <td>OLS</td>       <th>  Adj. R-squared (uncentered):</th> <td>   0.991</td> \n",
       "</tr>\n",
       "<tr>\n",
       "  <th>Method:</th>             <td>Least Squares</td>  <th>  F-statistic:       </th>          <td>   2483.</td> \n",
       "</tr>\n",
       "<tr>\n",
       "  <th>Date:</th>             <td>Mon, 31 Oct 2022</td> <th>  Prob (F-statistic):</th>          <td>1.58e-110</td>\n",
       "</tr>\n",
       "<tr>\n",
       "  <th>Time:</th>                 <td>18:30:01</td>     <th>  Log-Likelihood:    </th>          <td> -1516.4</td> \n",
       "</tr>\n",
       "<tr>\n",
       "  <th>No. Observations:</th>      <td>   114</td>      <th>  AIC:               </th>          <td>   3043.</td> \n",
       "</tr>\n",
       "<tr>\n",
       "  <th>Df Residuals:</th>          <td>   109</td>      <th>  BIC:               </th>          <td>   3056.</td> \n",
       "</tr>\n",
       "<tr>\n",
       "  <th>Df Model:</th>              <td>     5</td>      <th>                     </th>              <td> </td>    \n",
       "</tr>\n",
       "<tr>\n",
       "  <th>Covariance Type:</th>      <td>nonrobust</td>    <th>                     </th>              <td> </td>    \n",
       "</tr>\n",
       "</table>\n",
       "<table class=\"simpletable\">\n",
       "<tr>\n",
       "        <td></td>          <th>coef</th>     <th>std err</th>      <th>t</th>      <th>P>|t|</th>  <th>[0.025</th>    <th>0.975]</th>  \n",
       "</tr>\n",
       "<tr>\n",
       "  <th>Temperature</th>  <td>-1954.5625</td> <td> 1009.396</td> <td>   -1.936</td> <td> 0.055</td> <td>-3955.153</td> <td>   46.028</td>\n",
       "</tr>\n",
       "<tr>\n",
       "  <th>Fuel_Price</th>   <td>-4.766e+04</td> <td> 5.58e+04</td> <td>   -0.854</td> <td> 0.395</td> <td>-1.58e+05</td> <td> 6.29e+04</td>\n",
       "</tr>\n",
       "<tr>\n",
       "  <th>CPI</th>          <td> 5356.3022</td> <td> 2213.310</td> <td>    2.420</td> <td> 0.017</td> <td>  969.594</td> <td> 9743.010</td>\n",
       "</tr>\n",
       "<tr>\n",
       "  <th>Unemployment</th> <td> 7.708e+04</td> <td>  5.9e+04</td> <td>    1.306</td> <td> 0.194</td> <td>-3.99e+04</td> <td> 1.94e+05</td>\n",
       "</tr>\n",
       "<tr>\n",
       "  <th>reDate</th>       <td> 1219.1773</td> <td>  925.546</td> <td>    1.317</td> <td> 0.191</td> <td> -615.225</td> <td> 3053.580</td>\n",
       "</tr>\n",
       "</table>\n",
       "<table class=\"simpletable\">\n",
       "<tr>\n",
       "  <th>Omnibus:</th>       <td>82.749</td> <th>  Durbin-Watson:     </th> <td>   1.799</td> \n",
       "</tr>\n",
       "<tr>\n",
       "  <th>Prob(Omnibus):</th> <td> 0.000</td> <th>  Jarque-Bera (JB):  </th> <td> 656.668</td> \n",
       "</tr>\n",
       "<tr>\n",
       "  <th>Skew:</th>          <td> 2.354</td> <th>  Prob(JB):          </th> <td>2.55e-143</td>\n",
       "</tr>\n",
       "<tr>\n",
       "  <th>Kurtosis:</th>      <td>13.774</td> <th>  Cond. No.          </th> <td>1.14e+03</td> \n",
       "</tr>\n",
       "</table><br/><br/>Notes:<br/>[1] R² is computed without centering (uncentered) since the model does not contain a constant.<br/>[2] Standard Errors assume that the covariance matrix of the errors is correctly specified.<br/>[3] The condition number is large, 1.14e+03. This might indicate that there are<br/>strong multicollinearity or other numerical problems."
      ],
      "text/plain": [
       "<class 'statsmodels.iolib.summary.Summary'>\n",
       "\"\"\"\n",
       "                                 OLS Regression Results                                \n",
       "=======================================================================================\n",
       "Dep. Variable:           Weekly_Sales   R-squared (uncentered):                   0.991\n",
       "Model:                            OLS   Adj. R-squared (uncentered):              0.991\n",
       "Method:                 Least Squares   F-statistic:                              2483.\n",
       "Date:                Mon, 31 Oct 2022   Prob (F-statistic):                   1.58e-110\n",
       "Time:                        18:30:01   Log-Likelihood:                         -1516.4\n",
       "No. Observations:                 114   AIC:                                      3043.\n",
       "Df Residuals:                     109   BIC:                                      3056.\n",
       "Df Model:                           5                                                  \n",
       "Covariance Type:            nonrobust                                                  \n",
       "================================================================================\n",
       "                   coef    std err          t      P>|t|      [0.025      0.975]\n",
       "--------------------------------------------------------------------------------\n",
       "Temperature  -1954.5625   1009.396     -1.936      0.055   -3955.153      46.028\n",
       "Fuel_Price   -4.766e+04   5.58e+04     -0.854      0.395   -1.58e+05    6.29e+04\n",
       "CPI           5356.3022   2213.310      2.420      0.017     969.594    9743.010\n",
       "Unemployment  7.708e+04    5.9e+04      1.306      0.194   -3.99e+04    1.94e+05\n",
       "reDate        1219.1773    925.546      1.317      0.191    -615.225    3053.580\n",
       "==============================================================================\n",
       "Omnibus:                       82.749   Durbin-Watson:                   1.799\n",
       "Prob(Omnibus):                  0.000   Jarque-Bera (JB):              656.668\n",
       "Skew:                           2.354   Prob(JB):                    2.55e-143\n",
       "Kurtosis:                      13.774   Cond. No.                     1.14e+03\n",
       "==============================================================================\n",
       "\n",
       "Notes:\n",
       "[1] R² is computed without centering (uncentered) since the model does not contain a constant.\n",
       "[2] Standard Errors assume that the covariance matrix of the errors is correctly specified.\n",
       "[3] The condition number is large, 1.14e+03. This might indicate that there are\n",
       "strong multicollinearity or other numerical problems.\n",
       "\"\"\""
      ]
     },
     "execution_count": 182,
     "metadata": {},
     "output_type": "execute_result"
    }
   ],
   "source": [
    "# Least Squares for simple date replacement with 1 to length of the date feature\n",
    "wm1 = wm[wm['Store']==1]\n",
    "x =  wm1.loc[:,('Temperature','Fuel_Price','CPI','Unemployment')]\n",
    "# x['reDate'] = ((wm1.Date - wm1.Date[0])/np.timedelta64(1, 'D'))+1\n",
    "x['reDate'] = np.arange(1,len(x)+1)\n",
    "for dty in x.columns: x[dty] = x[dty].astype(float)\n",
    "y = wm1.Weekly_Sales.astype(float)\n",
    "x_trainr, x_testr, y_trainr, y_testr = train_test_split(x, y, test_size=0.2, random_state=0)\n",
    "model1 = OLS(y_trainr, x_trainr)\n",
    "result_range = model1.fit()\n",
    "result_range.summary()\n",
    "#pvalues\n",
    "# np.asarray(x), np.asarray(y)"
   ]
  },
  {
   "cell_type": "code",
   "execution_count": 183,
   "id": "4eb57590",
   "metadata": {},
   "outputs": [
    {
     "data": {
      "text/html": [
       "<table class=\"simpletable\">\n",
       "<caption>OLS Regression Results</caption>\n",
       "<tr>\n",
       "  <th>Dep. Variable:</th>      <td>Weekly_Sales</td>   <th>  R-squared (uncentered):</th>      <td>   0.992</td> \n",
       "</tr>\n",
       "<tr>\n",
       "  <th>Model:</th>                   <td>OLS</td>       <th>  Adj. R-squared (uncentered):</th> <td>   0.992</td> \n",
       "</tr>\n",
       "<tr>\n",
       "  <th>Method:</th>             <td>Least Squares</td>  <th>  F-statistic:       </th>          <td>   2670.</td> \n",
       "</tr>\n",
       "<tr>\n",
       "  <th>Date:</th>             <td>Mon, 31 Oct 2022</td> <th>  Prob (F-statistic):</th>          <td>3.15e-112</td>\n",
       "</tr>\n",
       "<tr>\n",
       "  <th>Time:</th>                 <td>18:30:06</td>     <th>  Log-Likelihood:    </th>          <td> -1512.3</td> \n",
       "</tr>\n",
       "<tr>\n",
       "  <th>No. Observations:</th>      <td>   114</td>      <th>  AIC:               </th>          <td>   3035.</td> \n",
       "</tr>\n",
       "<tr>\n",
       "  <th>Df Residuals:</th>          <td>   109</td>      <th>  BIC:               </th>          <td>   3048.</td> \n",
       "</tr>\n",
       "<tr>\n",
       "  <th>Df Model:</th>              <td>     5</td>      <th>                     </th>              <td> </td>    \n",
       "</tr>\n",
       "<tr>\n",
       "  <th>Covariance Type:</th>      <td>nonrobust</td>    <th>                     </th>              <td> </td>    \n",
       "</tr>\n",
       "</table>\n",
       "<table class=\"simpletable\">\n",
       "<tr>\n",
       "        <td></td>          <th>coef</th>     <th>std err</th>      <th>t</th>      <th>P>|t|</th>  <th>[0.025</th>    <th>0.975]</th>  \n",
       "</tr>\n",
       "<tr>\n",
       "  <th>Temperature</th>  <td>-2117.1798</td> <td>  965.954</td> <td>   -2.192</td> <td> 0.031</td> <td>-4031.670</td> <td> -202.690</td>\n",
       "</tr>\n",
       "<tr>\n",
       "  <th>Fuel_Price</th>   <td>   60.8158</td> <td> 4.18e+04</td> <td>    0.001</td> <td> 0.999</td> <td>-8.27e+04</td> <td> 8.28e+04</td>\n",
       "</tr>\n",
       "<tr>\n",
       "  <th>CPI</th>          <td> 7848.8120</td> <td> 1503.143</td> <td>    5.222</td> <td> 0.000</td> <td> 4869.631</td> <td> 1.08e+04</td>\n",
       "</tr>\n",
       "<tr>\n",
       "  <th>Unemployment</th> <td> 9399.3603</td> <td> 3.07e+04</td> <td>    0.306</td> <td> 0.760</td> <td>-5.15e+04</td> <td> 7.03e+04</td>\n",
       "</tr>\n",
       "<tr>\n",
       "  <th>reDate</th>       <td>-4862.9925</td> <td> 1538.923</td> <td>   -3.160</td> <td> 0.002</td> <td>-7913.087</td> <td>-1812.898</td>\n",
       "</tr>\n",
       "</table>\n",
       "<table class=\"simpletable\">\n",
       "<tr>\n",
       "  <th>Omnibus:</th>       <td>117.482</td> <th>  Durbin-Watson:     </th> <td>   1.982</td>\n",
       "</tr>\n",
       "<tr>\n",
       "  <th>Prob(Omnibus):</th> <td> 0.000</td>  <th>  Jarque-Bera (JB):  </th> <td>1755.259</td>\n",
       "</tr>\n",
       "<tr>\n",
       "  <th>Skew:</th>          <td> 3.534</td>  <th>  Prob(JB):          </th> <td>    0.00</td>\n",
       "</tr>\n",
       "<tr>\n",
       "  <th>Kurtosis:</th>      <td>20.877</td>  <th>  Cond. No.          </th> <td>    780.</td>\n",
       "</tr>\n",
       "</table><br/><br/>Notes:<br/>[1] R² is computed without centering (uncentered) since the model does not contain a constant.<br/>[2] Standard Errors assume that the covariance matrix of the errors is correctly specified."
      ],
      "text/plain": [
       "<class 'statsmodels.iolib.summary.Summary'>\n",
       "\"\"\"\n",
       "                                 OLS Regression Results                                \n",
       "=======================================================================================\n",
       "Dep. Variable:           Weekly_Sales   R-squared (uncentered):                   0.992\n",
       "Model:                            OLS   Adj. R-squared (uncentered):              0.992\n",
       "Method:                 Least Squares   F-statistic:                              2670.\n",
       "Date:                Mon, 31 Oct 2022   Prob (F-statistic):                   3.15e-112\n",
       "Time:                        18:30:06   Log-Likelihood:                         -1512.3\n",
       "No. Observations:                 114   AIC:                                      3035.\n",
       "Df Residuals:                     109   BIC:                                      3048.\n",
       "Df Model:                           5                                                  \n",
       "Covariance Type:            nonrobust                                                  \n",
       "================================================================================\n",
       "                   coef    std err          t      P>|t|      [0.025      0.975]\n",
       "--------------------------------------------------------------------------------\n",
       "Temperature  -2117.1798    965.954     -2.192      0.031   -4031.670    -202.690\n",
       "Fuel_Price      60.8158   4.18e+04      0.001      0.999   -8.27e+04    8.28e+04\n",
       "CPI           7848.8120   1503.143      5.222      0.000    4869.631    1.08e+04\n",
       "Unemployment  9399.3603   3.07e+04      0.306      0.760   -5.15e+04    7.03e+04\n",
       "reDate       -4862.9925   1538.923     -3.160      0.002   -7913.087   -1812.898\n",
       "==============================================================================\n",
       "Omnibus:                      117.482   Durbin-Watson:                   1.982\n",
       "Prob(Omnibus):                  0.000   Jarque-Bera (JB):             1755.259\n",
       "Skew:                           3.534   Prob(JB):                         0.00\n",
       "Kurtosis:                      20.877   Cond. No.                         780.\n",
       "==============================================================================\n",
       "\n",
       "Notes:\n",
       "[1] R² is computed without centering (uncentered) since the model does not contain a constant.\n",
       "[2] Standard Errors assume that the covariance matrix of the errors is correctly specified.\n",
       "\"\"\""
      ]
     },
     "execution_count": 183,
     "metadata": {},
     "output_type": "execute_result"
    }
   ],
   "source": [
    "# Least Squares for simple date replacement with days\n",
    "wm1 = wm[wm['Store']==1]\n",
    "x =  wm1.loc[:,('Temperature','Fuel_Price','CPI','Unemployment')]\n",
    "x['reDate'] = wm1.Date.dt.day #((wm1.Date - wm1.Date[0])/np.timedelta64(1, 'D'))+1\n",
    "for dty in x.columns: x[dty] = x[dty].astype(float)\n",
    "y = wm1.Weekly_Sales.astype(float)\n",
    "x_traind, x_testd, y_traind, y_testd = train_test_split(x, y, test_size=0.2, random_state=0)\n",
    "model1 = OLS(y_traind, x_traind)\n",
    "result_days = model1.fit()\n",
    "result_days.summary()"
   ]
  },
  {
   "cell_type": "code",
   "execution_count": 177,
   "id": "e2a882de",
   "metadata": {},
   "outputs": [
    {
     "name": "stdout",
     "output_type": "stream",
     "text": [
      "date replacement with range:: r_square: 0.11618739392044375 MSE: 150128.07035111234\n",
      "date replacement with days:: r_square: -0.6124791129589577 MSE: 202781.7447824636\n"
     ]
    }
   ],
   "source": [
    "print( 'date replacement with range::','r_square:', r2_score(y_testr,result_range.predict(x_testr)), 'MSE:', mean_squared_error(y_testr,result_range.predict(x_testr), squared=False))\n",
    "print('date replacement with days::','r_square:', r2_score(y_testd,result_range.predict(x_testd)), 'MSE:', mean_squared_error(y_testd,result_range.predict(x_testd), squared=False))"
   ]
  },
  {
   "cell_type": "markdown",
   "id": "e01ad74b",
   "metadata": {},
   "source": [
    "+ ### eventhough correlation of CPI, unemployment, and fuel price to weekly_sales,\n",
    "+ ### pvalues of unemployment, and fuel price > 0.05 suggests that it has higher bias on Weelky_sales predection.\n",
    "+ ### Date replacement with range from 1 to length of Weelky_sales to have better MSE & r-square with LinearRegression Least Square fit model\n",
    "## **------------------------------------------------------------------------------------------------------------------**"
   ]
  },
  {
   "cell_type": "code",
   "execution_count": 181,
   "id": "199bd360",
   "metadata": {},
   "outputs": [
    {
     "data": {
      "text/html": [
       "<table class=\"simpletable\">\n",
       "<caption>OLS Regression Results</caption>\n",
       "<tr>\n",
       "  <th>Dep. Variable:</th>      <td>Weekly_Sales</td>   <th>  R-squared:         </th> <td>   0.159</td>\n",
       "</tr>\n",
       "<tr>\n",
       "  <th>Model:</th>                   <td>OLS</td>       <th>  Adj. R-squared:    </th> <td>   0.136</td>\n",
       "</tr>\n",
       "<tr>\n",
       "  <th>Method:</th>             <td>Least Squares</td>  <th>  F-statistic:       </th> <td>   6.934</td>\n",
       "</tr>\n",
       "<tr>\n",
       "  <th>Date:</th>             <td>Mon, 31 Oct 2022</td> <th>  Prob (F-statistic):</th> <td>0.000256</td>\n",
       "</tr>\n",
       "<tr>\n",
       "  <th>Time:</th>                 <td>18:28:05</td>     <th>  Log-Likelihood:    </th> <td> -1512.3</td>\n",
       "</tr>\n",
       "<tr>\n",
       "  <th>No. Observations:</th>      <td>   114</td>      <th>  AIC:               </th> <td>   3033.</td>\n",
       "</tr>\n",
       "<tr>\n",
       "  <th>Df Residuals:</th>          <td>   110</td>      <th>  BIC:               </th> <td>   3044.</td>\n",
       "</tr>\n",
       "<tr>\n",
       "  <th>Df Model:</th>              <td>     3</td>      <th>                     </th>     <td> </td>   \n",
       "</tr>\n",
       "<tr>\n",
       "  <th>Covariance Type:</th>      <td>nonrobust</td>    <th>                     </th>     <td> </td>   \n",
       "</tr>\n",
       "</table>\n",
       "<table class=\"simpletable\">\n",
       "<tr>\n",
       "       <td></td>          <th>coef</th>     <th>std err</th>      <th>t</th>      <th>P>|t|</th>  <th>[0.025</th>    <th>0.975]</th>  \n",
       "</tr>\n",
       "<tr>\n",
       "  <th>Intercept</th>   <td>-1.261e+05</td> <td> 6.74e+05</td> <td>   -0.187</td> <td> 0.852</td> <td>-1.46e+06</td> <td> 1.21e+06</td>\n",
       "</tr>\n",
       "<tr>\n",
       "  <th>Temperature</th> <td>-2162.8634</td> <td>  934.737</td> <td>   -2.314</td> <td> 0.023</td> <td>-4015.293</td> <td> -310.433</td>\n",
       "</tr>\n",
       "<tr>\n",
       "  <th>CPI</th>         <td> 8781.4455</td> <td> 3157.093</td> <td>    2.781</td> <td> 0.006</td> <td> 2524.828</td> <td>  1.5e+04</td>\n",
       "</tr>\n",
       "<tr>\n",
       "  <th>redate</th>      <td>-4886.1215</td> <td> 1531.924</td> <td>   -3.190</td> <td> 0.002</td> <td>-7922.035</td> <td>-1850.208</td>\n",
       "</tr>\n",
       "</table>\n",
       "<table class=\"simpletable\">\n",
       "<tr>\n",
       "  <th>Omnibus:</th>       <td>118.538</td> <th>  Durbin-Watson:     </th> <td>   1.986</td>\n",
       "</tr>\n",
       "<tr>\n",
       "  <th>Prob(Omnibus):</th> <td> 0.000</td>  <th>  Jarque-Bera (JB):  </th> <td>1814.955</td>\n",
       "</tr>\n",
       "<tr>\n",
       "  <th>Skew:</th>          <td> 3.570</td>  <th>  Prob(JB):          </th> <td>    0.00</td>\n",
       "</tr>\n",
       "<tr>\n",
       "  <th>Kurtosis:</th>      <td>21.196</td>  <th>  Cond. No.          </th> <td>1.15e+04</td>\n",
       "</tr>\n",
       "</table><br/><br/>Notes:<br/>[1] Standard Errors assume that the covariance matrix of the errors is correctly specified.<br/>[2] The condition number is large, 1.15e+04. This might indicate that there are<br/>strong multicollinearity or other numerical problems."
      ],
      "text/plain": [
       "<class 'statsmodels.iolib.summary.Summary'>\n",
       "\"\"\"\n",
       "                            OLS Regression Results                            \n",
       "==============================================================================\n",
       "Dep. Variable:           Weekly_Sales   R-squared:                       0.159\n",
       "Model:                            OLS   Adj. R-squared:                  0.136\n",
       "Method:                 Least Squares   F-statistic:                     6.934\n",
       "Date:                Mon, 31 Oct 2022   Prob (F-statistic):           0.000256\n",
       "Time:                        18:28:05   Log-Likelihood:                -1512.3\n",
       "No. Observations:                 114   AIC:                             3033.\n",
       "Df Residuals:                     110   BIC:                             3044.\n",
       "Df Model:                           3                                         \n",
       "Covariance Type:            nonrobust                                         \n",
       "===============================================================================\n",
       "                  coef    std err          t      P>|t|      [0.025      0.975]\n",
       "-------------------------------------------------------------------------------\n",
       "Intercept   -1.261e+05   6.74e+05     -0.187      0.852   -1.46e+06    1.21e+06\n",
       "Temperature -2162.8634    934.737     -2.314      0.023   -4015.293    -310.433\n",
       "CPI          8781.4455   3157.093      2.781      0.006    2524.828     1.5e+04\n",
       "redate      -4886.1215   1531.924     -3.190      0.002   -7922.035   -1850.208\n",
       "==============================================================================\n",
       "Omnibus:                      118.538   Durbin-Watson:                   1.986\n",
       "Prob(Omnibus):                  0.000   Jarque-Bera (JB):             1814.955\n",
       "Skew:                           3.570   Prob(JB):                         0.00\n",
       "Kurtosis:                      21.196   Cond. No.                     1.15e+04\n",
       "==============================================================================\n",
       "\n",
       "Notes:\n",
       "[1] Standard Errors assume that the covariance matrix of the errors is correctly specified.\n",
       "[2] The condition number is large, 1.15e+04. This might indicate that there are\n",
       "strong multicollinearity or other numerical problems.\n",
       "\"\"\""
      ]
     },
     "execution_count": 181,
     "metadata": {},
     "output_type": "execute_result"
    }
   ],
   "source": [
    "# wmdm0 = wm[wm['Store']==1]\n",
    "# wmdm = wmdm0.drop([\"Date\"], axis=1)\n",
    "# wmdm['redate'] = wmdm0.Date.dt.day #np.arange(1,len(x)+1) #((wm1.Date - wm1.Date[0])/np.timedelta64(1, 'D'))+1\n",
    "# for dty in wmdm.columns: wmdm[dty] = wmdm[dty].astype(float)\n",
    "# yDmat, xDmat = dmatrices('Weekly_Sales ~ Temperature + CPI + redate', data=wmdm, return_type='dataframe')\n",
    "# x_traindm, x_testdm, y_traindm, y_testdm = train_test_split(xDmat, yDmat, test_size=0.2, random_state=0)\n",
    "# model1 = OLS(y_traindm, x_traindm)\n",
    "# resultOLS = model1.fit()\n",
    "# resultOLS.summary()"
   ]
  },
  {
   "cell_type": "code",
   "execution_count": 67,
   "id": "bf2dd892",
   "metadata": {},
   "outputs": [],
   "source": [
    "# x =  wm.loc[:,('Holiday_Flag','Temperature','Fuel_Price','CPI','Unemployment')]\n",
    "# for dty in x.columns: x[dty].dtype = float\n",
    "# y = wm.Weekly_Sales\n",
    "# x_train, x_test, y_train, y_test = train_test_split(x, y, test_size=0.2, random_state=0)\n",
    "# model1 = OLS(np.asarray(y_train, dtype=float), np.asarray(x_train, dtype=float))\n",
    "# model = model1.fit()\n",
    "# model.summary()"
   ]
  },
  {
   "cell_type": "code",
   "execution_count": 184,
   "id": "f3d52a93",
   "metadata": {},
   "outputs": [],
   "source": [
    "#y_testd #\n",
    "# result_days.predict()"
   ]
  },
  {
   "cell_type": "code",
   "execution_count": null,
   "id": "e73fb545",
   "metadata": {},
   "outputs": [],
   "source": []
  }
 ],
 "metadata": {
  "kernelspec": {
   "display_name": "Python 3 (ipykernel)",
   "language": "python",
   "name": "python3"
  },
  "language_info": {
   "codemirror_mode": {
    "name": "ipython",
    "version": 3
   },
   "file_extension": ".py",
   "mimetype": "text/x-python",
   "name": "python",
   "nbconvert_exporter": "python",
   "pygments_lexer": "ipython3",
   "version": "3.8.16"
  }
 },
 "nbformat": 4,
 "nbformat_minor": 5
}
